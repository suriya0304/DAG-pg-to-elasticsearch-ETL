{
 "cells": [
  {
   "cell_type": "code",
   "execution_count": 23,
   "id": "46c72e33",
   "metadata": {},
   "outputs": [],
   "source": [
    "import datetime as dt\n",
    "from datetime import timedelta \n",
    "\n",
    "from airflow import DAG\n",
    "from airflow.operators.bash import BashOperator\n",
    "from airflow.operators.python import PythonOperator\n",
    "\n",
    "import pandas as pd\n",
    "\n",
    "import psycopg2 as db\n",
    "from elasticsearch import Elasticsearch"
   ]
  },
  {
   "cell_type": "code",
   "execution_count": 7,
   "id": "0a7dcdf0",
   "metadata": {},
   "outputs": [],
   "source": [
    "default_args={\n",
    "    \"owner\":'suriya',\n",
    "    \"start_date\":dt.datetime(2023,4,12),\n",
    "    'retries':1,\n",
    "    'retry_delay':dt.timedelta(minutes=5)\n",
    "}"
   ]
  },
  {
   "cell_type": "code",
   "execution_count": null,
   "id": "750f9377",
   "metadata": {},
   "outputs": [],
   "source": [
    "with DAG('DAG_pg_es',default_args=default_args,schedule_interval=timedelta(minutes=5)) as dag:\n",
    "    getData=PythonOperator(task_id='QueryPostgresSQL',python_callable=QueryPostgresSQL)\n",
    "    insertData=PythonOperator(task_id='InsertElasticSearch',python_callable=InsertElasticSearch)\n",
    "getData>>insertData"
   ]
  },
  {
   "cell_type": "code",
   "execution_count": 21,
   "id": "d3bcc320",
   "metadata": {},
   "outputs": [],
   "source": [
    "def QueryPostgresSQL():\n",
    "    conn_string=\"dbname='data_engineer' host='localhost' user='postgres' password='test'\"\n",
    "    conn=db.connect(conn_string)\n",
    "    df=pd.read_sql('select name,city from people',conn)\n",
    "    df.to_csv('getPgData.csv')\n",
    "    print('----- Data saved as scv -----')"
   ]
  },
  {
   "cell_type": "code",
   "execution_count": null,
   "id": "79486189",
   "metadata": {},
   "outputs": [],
   "source": [
    "def InsertElasticSearch():\n",
    "    es=Elasticsearch('http://127.0.0.1')\n",
    "    df=pd.read_csv('getPgData.csv')\n",
    "    for i,r in df.iterrows():\n",
    "        doc=r.to_json\n",
    "        es.index(index=\"frompostgresql\",doc_type=\"doc\",body=doc)\n",
    "        print(res)\n",
    "    "
   ]
  },
  {
   "cell_type": "code",
   "execution_count": 22,
   "id": "8ca85a1c",
   "metadata": {},
   "outputs": [
    {
     "data": {
      "text/html": [
       "<pre style=\"white-space:pre;overflow-x:auto;line-height:normal;font-family:Menlo,'DejaVu Sans Mono',consolas,'Courier New',monospace\"><span style=\"color: #808000; text-decoration-color: #808000; font-weight: bold\">/tmp/ipykernel_14797/1573286210.py:</span><span style=\"color: #808000; text-decoration-color: #808000; font-weight: bold\">4</span><span style=\"color: #808000; text-decoration-color: #808000; font-weight: bold\"> UserWarning</span><span style=\"color: #808000; text-decoration-color: #808000\">: pandas only supports SQLAlchemy connectable </span><span style=\"color: #808000; text-decoration-color: #808000; font-weight: bold\">(</span><span style=\"color: #808000; text-decoration-color: #808000\">engine/connection</span><span style=\"color: #808000; text-decoration-color: #808000; font-weight: bold\">)</span><span style=\"color: #808000; text-decoration-color: #808000\"> or database string URI or sqlite3 DBAPI2 connection. Other DBAPI2 objects are not tested. Please consider using SQLAlchemy.</span>\n",
       "</pre>\n"
      ],
      "text/plain": [
       "\u001b[1;33m/tmp/ipykernel_14797/\u001b[0m\u001b[1;33m1573286210.py\u001b[0m\u001b[1;33m:\u001b[0m\u001b[1;33m4\u001b[0m\u001b[1;33m UserWarning\u001b[0m\u001b[33m: pandas only supports SQLAlchemy connectable \u001b[0m\u001b[1;33m(\u001b[0m\u001b[33mengine/connection\u001b[0m\u001b[1;33m)\u001b[0m\u001b[33m or database string URI or sqlite3 DBAPI2 connection. Other DBAPI2 objects are not tested. Please consider using SQLAlchemy.\u001b[0m\n"
      ]
     },
     "metadata": {},
     "output_type": "display_data"
    },
    {
     "name": "stdout",
     "output_type": "stream",
     "text": [
      "----- Data saved as scv -----\n"
     ]
    }
   ],
   "source": [
    "QueryPostgresSQL()"
   ]
  },
  {
   "cell_type": "code",
   "execution_count": null,
   "id": "8aa6ef0d",
   "metadata": {},
   "outputs": [],
   "source": []
  }
 ],
 "metadata": {
  "kernelspec": {
   "display_name": "venv_data_eng",
   "language": "python",
   "name": "venv_data_eng"
  },
  "language_info": {
   "codemirror_mode": {
    "name": "ipython",
    "version": 3
   },
   "file_extension": ".py",
   "mimetype": "text/x-python",
   "name": "python",
   "nbconvert_exporter": "python",
   "pygments_lexer": "ipython3",
   "version": "3.8.10"
  }
 },
 "nbformat": 4,
 "nbformat_minor": 5
}
